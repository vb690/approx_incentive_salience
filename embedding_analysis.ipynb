{
 "cells": [
  {
   "cell_type": "code",
   "execution_count": 1,
   "metadata": {},
   "outputs": [],
   "source": [
    "%load_ext autoreload\n",
    "%autoreload 2"
   ]
  },
  {
   "cell_type": "code",
   "execution_count": 2,
   "metadata": {},
   "outputs": [
    {
     "ename": "KeyboardInterrupt",
     "evalue": "",
     "output_type": "error",
     "traceback": [
      "\u001b[1;31m---------------------------------------------------------------------------\u001b[0m",
      "\u001b[1;31mKeyboardInterrupt\u001b[0m                         Traceback (most recent call last)",
      "\u001b[1;32m<ipython-input-2-5ee4bfd83463>\u001b[0m in \u001b[0;36m<module>\u001b[1;34m\u001b[0m\n\u001b[0;32m      9\u001b[0m \u001b[1;32mimport\u001b[0m \u001b[0mpandas\u001b[0m \u001b[1;32mas\u001b[0m \u001b[0mpd\u001b[0m\u001b[1;33m\u001b[0m\u001b[0m\n\u001b[0;32m     10\u001b[0m \u001b[1;33m\u001b[0m\u001b[0m\n\u001b[1;32m---> 11\u001b[1;33m \u001b[1;32mfrom\u001b[0m \u001b[0msklearn\u001b[0m\u001b[1;33m.\u001b[0m\u001b[0mpreprocessing\u001b[0m \u001b[1;32mimport\u001b[0m \u001b[0mMinMaxScaler\u001b[0m \u001b[1;32mas\u001b[0m \u001b[0mmms\u001b[0m\u001b[1;33m\u001b[0m\u001b[0m\n\u001b[0m\u001b[0;32m     12\u001b[0m \u001b[1;33m\u001b[0m\u001b[0m\n\u001b[0;32m     13\u001b[0m \u001b[1;32mimport\u001b[0m \u001b[0mmatplotlib\u001b[0m\u001b[1;33m\u001b[0m\u001b[0m\n",
      "\u001b[1;32mc:\\users\\penthotal\\appdata\\local\\programs\\python\\python36\\lib\\site-packages\\sklearn\\__init__.py\u001b[0m in \u001b[0;36m<module>\u001b[1;34m\u001b[0m\n\u001b[0;32m     72\u001b[0m \u001b[1;32melse\u001b[0m\u001b[1;33m:\u001b[0m\u001b[1;33m\u001b[0m\u001b[0m\n\u001b[0;32m     73\u001b[0m     \u001b[1;32mfrom\u001b[0m \u001b[1;33m.\u001b[0m \u001b[1;32mimport\u001b[0m \u001b[0m__check_build\u001b[0m\u001b[1;33m\u001b[0m\u001b[0m\n\u001b[1;32m---> 74\u001b[1;33m     \u001b[1;32mfrom\u001b[0m \u001b[1;33m.\u001b[0m\u001b[0mbase\u001b[0m \u001b[1;32mimport\u001b[0m \u001b[0mclone\u001b[0m\u001b[1;33m\u001b[0m\u001b[0m\n\u001b[0m\u001b[0;32m     75\u001b[0m     \u001b[1;32mfrom\u001b[0m \u001b[1;33m.\u001b[0m\u001b[0mutils\u001b[0m\u001b[1;33m.\u001b[0m\u001b[0m_show_versions\u001b[0m \u001b[1;32mimport\u001b[0m \u001b[0mshow_versions\u001b[0m\u001b[1;33m\u001b[0m\u001b[0m\n\u001b[0;32m     76\u001b[0m \u001b[1;33m\u001b[0m\u001b[0m\n",
      "\u001b[1;32mc:\\users\\penthotal\\appdata\\local\\programs\\python\\python36\\lib\\site-packages\\sklearn\\base.py\u001b[0m in \u001b[0;36m<module>\u001b[1;34m\u001b[0m\n\u001b[0;32m     18\u001b[0m \u001b[1;33m\u001b[0m\u001b[0m\n\u001b[0;32m     19\u001b[0m \u001b[1;32mfrom\u001b[0m \u001b[1;33m.\u001b[0m \u001b[1;32mimport\u001b[0m \u001b[0m__version__\u001b[0m\u001b[1;33m\u001b[0m\u001b[0m\n\u001b[1;32m---> 20\u001b[1;33m \u001b[1;32mfrom\u001b[0m \u001b[1;33m.\u001b[0m\u001b[0mutils\u001b[0m \u001b[1;32mimport\u001b[0m \u001b[0m_IS_32BIT\u001b[0m\u001b[1;33m\u001b[0m\u001b[0m\n\u001b[0m\u001b[0;32m     21\u001b[0m \u001b[1;33m\u001b[0m\u001b[0m\n\u001b[0;32m     22\u001b[0m _DEFAULT_TAGS = {\n",
      "\u001b[1;32mc:\\users\\penthotal\\appdata\\local\\programs\\python\\python36\\lib\\site-packages\\sklearn\\utils\\__init__.py\u001b[0m in \u001b[0;36m<module>\u001b[1;34m\u001b[0m\n\u001b[0;32m     23\u001b[0m \u001b[1;32mfrom\u001b[0m \u001b[1;33m.\u001b[0m\u001b[1;33m.\u001b[0m\u001b[0mexceptions\u001b[0m \u001b[1;32mimport\u001b[0m \u001b[0mDataConversionWarning\u001b[0m\u001b[1;33m\u001b[0m\u001b[0m\n\u001b[0;32m     24\u001b[0m \u001b[1;32mfrom\u001b[0m \u001b[1;33m.\u001b[0m\u001b[0mdeprecation\u001b[0m \u001b[1;32mimport\u001b[0m \u001b[0mdeprecated\u001b[0m\u001b[1;33m\u001b[0m\u001b[0m\n\u001b[1;32m---> 25\u001b[1;33m \u001b[1;32mfrom\u001b[0m \u001b[1;33m.\u001b[0m\u001b[0mfixes\u001b[0m \u001b[1;32mimport\u001b[0m \u001b[0mnp_version\u001b[0m\u001b[1;33m\u001b[0m\u001b[0m\n\u001b[0m\u001b[0;32m     26\u001b[0m from .validation import (as_float_array,\n\u001b[0;32m     27\u001b[0m                          \u001b[0massert_all_finite\u001b[0m\u001b[1;33m,\u001b[0m\u001b[1;33m\u001b[0m\u001b[0m\n",
      "\u001b[1;32mc:\\users\\penthotal\\appdata\\local\\programs\\python\\python36\\lib\\site-packages\\sklearn\\utils\\fixes.py\u001b[0m in \u001b[0;36m<module>\u001b[1;34m\u001b[0m\n\u001b[0;32m     16\u001b[0m \u001b[1;32mimport\u001b[0m \u001b[0mscipy\u001b[0m\u001b[1;33m.\u001b[0m\u001b[0msparse\u001b[0m \u001b[1;32mas\u001b[0m \u001b[0msp\u001b[0m\u001b[1;33m\u001b[0m\u001b[0m\n\u001b[0;32m     17\u001b[0m \u001b[1;32mimport\u001b[0m \u001b[0mscipy\u001b[0m\u001b[1;33m\u001b[0m\u001b[0m\n\u001b[1;32m---> 18\u001b[1;33m \u001b[1;32mimport\u001b[0m \u001b[0mscipy\u001b[0m\u001b[1;33m.\u001b[0m\u001b[0mstats\u001b[0m\u001b[1;33m\u001b[0m\u001b[0m\n\u001b[0m\u001b[0;32m     19\u001b[0m \u001b[1;32mfrom\u001b[0m \u001b[0mscipy\u001b[0m\u001b[1;33m.\u001b[0m\u001b[0msparse\u001b[0m\u001b[1;33m.\u001b[0m\u001b[0mlinalg\u001b[0m \u001b[1;32mimport\u001b[0m \u001b[0mlsqr\u001b[0m \u001b[1;32mas\u001b[0m \u001b[0msparse_lsqr\u001b[0m  \u001b[1;31m# noqa\u001b[0m\u001b[1;33m\u001b[0m\u001b[0m\n\u001b[0;32m     20\u001b[0m \u001b[1;33m\u001b[0m\u001b[0m\n",
      "\u001b[1;32mc:\\users\\penthotal\\appdata\\local\\programs\\python\\python36\\lib\\site-packages\\scipy\\stats\\__init__.py\u001b[0m in \u001b[0;36m<module>\u001b[1;34m\u001b[0m\n\u001b[0;32m    382\u001b[0m \u001b[1;32mfrom\u001b[0m \u001b[0m__future__\u001b[0m \u001b[1;32mimport\u001b[0m \u001b[0mdivision\u001b[0m\u001b[1;33m,\u001b[0m \u001b[0mprint_function\u001b[0m\u001b[1;33m,\u001b[0m \u001b[0mabsolute_import\u001b[0m\u001b[1;33m\u001b[0m\u001b[0m\n\u001b[0;32m    383\u001b[0m \u001b[1;33m\u001b[0m\u001b[0m\n\u001b[1;32m--> 384\u001b[1;33m \u001b[1;32mfrom\u001b[0m \u001b[1;33m.\u001b[0m\u001b[0mstats\u001b[0m \u001b[1;32mimport\u001b[0m \u001b[1;33m*\u001b[0m\u001b[1;33m\u001b[0m\u001b[0m\n\u001b[0m\u001b[0;32m    385\u001b[0m \u001b[1;32mfrom\u001b[0m \u001b[1;33m.\u001b[0m\u001b[0mdistributions\u001b[0m \u001b[1;32mimport\u001b[0m \u001b[1;33m*\u001b[0m\u001b[1;33m\u001b[0m\u001b[0m\n\u001b[0;32m    386\u001b[0m \u001b[1;32mfrom\u001b[0m \u001b[1;33m.\u001b[0m\u001b[0mmorestats\u001b[0m \u001b[1;32mimport\u001b[0m \u001b[1;33m*\u001b[0m\u001b[1;33m\u001b[0m\u001b[0m\n",
      "\u001b[1;32mc:\\users\\penthotal\\appdata\\local\\programs\\python\\python36\\lib\\site-packages\\scipy\\stats\\stats.py\u001b[0m in \u001b[0;36m<module>\u001b[1;34m\u001b[0m\n\u001b[0;32m    183\u001b[0m \u001b[1;32mimport\u001b[0m \u001b[0mscipy\u001b[0m\u001b[1;33m.\u001b[0m\u001b[0mspecial\u001b[0m \u001b[1;32mas\u001b[0m \u001b[0mspecial\u001b[0m\u001b[1;33m\u001b[0m\u001b[0m\n\u001b[0;32m    184\u001b[0m \u001b[1;32mfrom\u001b[0m \u001b[0mscipy\u001b[0m \u001b[1;32mimport\u001b[0m \u001b[0mlinalg\u001b[0m\u001b[1;33m\u001b[0m\u001b[0m\n\u001b[1;32m--> 185\u001b[1;33m \u001b[1;32mfrom\u001b[0m \u001b[1;33m.\u001b[0m \u001b[1;32mimport\u001b[0m \u001b[0mdistributions\u001b[0m\u001b[1;33m\u001b[0m\u001b[0m\n\u001b[0m\u001b[0;32m    186\u001b[0m \u001b[1;32mfrom\u001b[0m \u001b[1;33m.\u001b[0m \u001b[1;32mimport\u001b[0m \u001b[0mmstats_basic\u001b[0m\u001b[1;33m\u001b[0m\u001b[0m\n\u001b[0;32m    187\u001b[0m from ._stats_mstats_common import (_find_repeats, linregress, theilslopes,\n",
      "\u001b[1;32mc:\\users\\penthotal\\appdata\\local\\programs\\python\\python36\\lib\\site-packages\\scipy\\stats\\distributions.py\u001b[0m in \u001b[0;36m<module>\u001b[1;34m\u001b[0m\n\u001b[0;32m     11\u001b[0m                                     rv_frozen)\n\u001b[0;32m     12\u001b[0m \u001b[1;33m\u001b[0m\u001b[0m\n\u001b[1;32m---> 13\u001b[1;33m \u001b[1;32mfrom\u001b[0m \u001b[1;33m.\u001b[0m \u001b[1;32mimport\u001b[0m \u001b[0m_continuous_distns\u001b[0m\u001b[1;33m\u001b[0m\u001b[0m\n\u001b[0m\u001b[0;32m     14\u001b[0m \u001b[1;32mfrom\u001b[0m \u001b[1;33m.\u001b[0m \u001b[1;32mimport\u001b[0m \u001b[0m_discrete_distns\u001b[0m\u001b[1;33m\u001b[0m\u001b[0m\n\u001b[0;32m     15\u001b[0m \u001b[1;33m\u001b[0m\u001b[0m\n",
      "\u001b[1;32mc:\\users\\penthotal\\appdata\\local\\programs\\python\\python36\\lib\\site-packages\\scipy\\stats\\_continuous_distns.py\u001b[0m in \u001b[0;36m<module>\u001b[1;34m\u001b[0m\n\u001b[0;32m   3089\u001b[0m \u001b[1;33m\u001b[0m\u001b[0m\n\u001b[0;32m   3090\u001b[0m \u001b[1;33m\u001b[0m\u001b[0m\n\u001b[1;32m-> 3091\u001b[1;33m \u001b[0mgumbel_r\u001b[0m \u001b[1;33m=\u001b[0m \u001b[0mgumbel_r_gen\u001b[0m\u001b[1;33m(\u001b[0m\u001b[0mname\u001b[0m\u001b[1;33m=\u001b[0m\u001b[1;34m'gumbel_r'\u001b[0m\u001b[1;33m)\u001b[0m\u001b[1;33m\u001b[0m\u001b[0m\n\u001b[0m\u001b[0;32m   3092\u001b[0m \u001b[1;33m\u001b[0m\u001b[0m\n\u001b[0;32m   3093\u001b[0m \u001b[1;33m\u001b[0m\u001b[0m\n",
      "\u001b[1;32mc:\\users\\penthotal\\appdata\\local\\programs\\python\\python36\\lib\\site-packages\\scipy\\stats\\_distn_infrastructure.py\u001b[0m in \u001b[0;36m__init__\u001b[1;34m(self, momtype, a, b, xtol, badvalue, name, longname, shapes, extradoc, seed)\u001b[0m\n\u001b[0;32m   1633\u001b[0m             \u001b[1;32melse\u001b[0m\u001b[1;33m:\u001b[0m\u001b[1;33m\u001b[0m\u001b[0m\n\u001b[0;32m   1634\u001b[0m                 \u001b[0mdct\u001b[0m \u001b[1;33m=\u001b[0m \u001b[0mdict\u001b[0m\u001b[1;33m(\u001b[0m\u001b[0mdistcont\u001b[0m\u001b[1;33m)\u001b[0m\u001b[1;33m\u001b[0m\u001b[0m\n\u001b[1;32m-> 1635\u001b[1;33m                 \u001b[0mself\u001b[0m\u001b[1;33m.\u001b[0m\u001b[0m_construct_doc\u001b[0m\u001b[1;33m(\u001b[0m\u001b[0mdocdict\u001b[0m\u001b[1;33m,\u001b[0m \u001b[0mdct\u001b[0m\u001b[1;33m.\u001b[0m\u001b[0mget\u001b[0m\u001b[1;33m(\u001b[0m\u001b[0mself\u001b[0m\u001b[1;33m.\u001b[0m\u001b[0mname\u001b[0m\u001b[1;33m)\u001b[0m\u001b[1;33m)\u001b[0m\u001b[1;33m\u001b[0m\u001b[0m\n\u001b[0m\u001b[0;32m   1636\u001b[0m \u001b[1;33m\u001b[0m\u001b[0m\n\u001b[0;32m   1637\u001b[0m     \u001b[1;32mdef\u001b[0m \u001b[0m_updated_ctor_param\u001b[0m\u001b[1;33m(\u001b[0m\u001b[0mself\u001b[0m\u001b[1;33m)\u001b[0m\u001b[1;33m:\u001b[0m\u001b[1;33m\u001b[0m\u001b[0m\n",
      "\u001b[1;32mc:\\users\\penthotal\\appdata\\local\\programs\\python\\python36\\lib\\site-packages\\scipy\\stats\\_distn_infrastructure.py\u001b[0m in \u001b[0;36m_construct_doc\u001b[1;34m(self, docdict, shapes_vals)\u001b[0m\n\u001b[0;32m    730\u001b[0m                 \u001b[0mself\u001b[0m\u001b[1;33m.\u001b[0m\u001b[0m__doc__\u001b[0m \u001b[1;33m=\u001b[0m \u001b[0mself\u001b[0m\u001b[1;33m.\u001b[0m\u001b[0m__doc__\u001b[0m\u001b[1;33m.\u001b[0m\u001b[0mreplace\u001b[0m\u001b[1;33m(\u001b[0m\u001b[1;34m\"%(shapes)s, \"\u001b[0m\u001b[1;33m,\u001b[0m \u001b[1;34m\"\"\u001b[0m\u001b[1;33m)\u001b[0m\u001b[1;33m\u001b[0m\u001b[0m\n\u001b[0;32m    731\u001b[0m             \u001b[1;32mtry\u001b[0m\u001b[1;33m:\u001b[0m\u001b[1;33m\u001b[0m\u001b[0m\n\u001b[1;32m--> 732\u001b[1;33m                 \u001b[0mself\u001b[0m\u001b[1;33m.\u001b[0m\u001b[0m__doc__\u001b[0m \u001b[1;33m=\u001b[0m \u001b[0mdoccer\u001b[0m\u001b[1;33m.\u001b[0m\u001b[0mdocformat\u001b[0m\u001b[1;33m(\u001b[0m\u001b[0mself\u001b[0m\u001b[1;33m.\u001b[0m\u001b[0m__doc__\u001b[0m\u001b[1;33m,\u001b[0m \u001b[0mtempdict\u001b[0m\u001b[1;33m)\u001b[0m\u001b[1;33m\u001b[0m\u001b[0m\n\u001b[0m\u001b[0;32m    733\u001b[0m             \u001b[1;32mexcept\u001b[0m \u001b[0mTypeError\u001b[0m \u001b[1;32mas\u001b[0m \u001b[0me\u001b[0m\u001b[1;33m:\u001b[0m\u001b[1;33m\u001b[0m\u001b[0m\n\u001b[0;32m    734\u001b[0m                 \u001b[1;32mraise\u001b[0m \u001b[0mException\u001b[0m\u001b[1;33m(\u001b[0m\u001b[1;34m\"Unable to construct docstring for distribution \\\"%s\\\": %s\"\u001b[0m \u001b[1;33m%\u001b[0m \u001b[1;33m(\u001b[0m\u001b[0mself\u001b[0m\u001b[1;33m.\u001b[0m\u001b[0mname\u001b[0m\u001b[1;33m,\u001b[0m \u001b[0mrepr\u001b[0m\u001b[1;33m(\u001b[0m\u001b[0me\u001b[0m\u001b[1;33m)\u001b[0m\u001b[1;33m)\u001b[0m\u001b[1;33m)\u001b[0m\u001b[1;33m\u001b[0m\u001b[0m\n",
      "\u001b[1;32mc:\\users\\penthotal\\appdata\\local\\programs\\python\\python36\\lib\\site-packages\\scipy\\_lib\\doccer.py\u001b[0m in \u001b[0;36mdocformat\u001b[1;34m(docstring, docdict)\u001b[0m\n\u001b[0;32m     63\u001b[0m             \u001b[1;32mfor\u001b[0m \u001b[0mline\u001b[0m \u001b[1;32min\u001b[0m \u001b[0mlines\u001b[0m\u001b[1;33m[\u001b[0m\u001b[1;36m1\u001b[0m\u001b[1;33m:\u001b[0m\u001b[1;33m]\u001b[0m\u001b[1;33m:\u001b[0m\u001b[1;33m\u001b[0m\u001b[0m\n\u001b[0;32m     64\u001b[0m                 \u001b[0mnewlines\u001b[0m\u001b[1;33m.\u001b[0m\u001b[0mappend\u001b[0m\u001b[1;33m(\u001b[0m\u001b[0mindent\u001b[0m\u001b[1;33m+\u001b[0m\u001b[0mline\u001b[0m\u001b[1;33m)\u001b[0m\u001b[1;33m\u001b[0m\u001b[0m\n\u001b[1;32m---> 65\u001b[1;33m             \u001b[0mindented\u001b[0m\u001b[1;33m[\u001b[0m\u001b[0mname\u001b[0m\u001b[1;33m]\u001b[0m \u001b[1;33m=\u001b[0m \u001b[1;34m'\\n'\u001b[0m\u001b[1;33m.\u001b[0m\u001b[0mjoin\u001b[0m\u001b[1;33m(\u001b[0m\u001b[0mnewlines\u001b[0m\u001b[1;33m)\u001b[0m\u001b[1;33m\u001b[0m\u001b[0m\n\u001b[0m\u001b[0;32m     66\u001b[0m         \u001b[1;32mexcept\u001b[0m \u001b[0mIndexError\u001b[0m\u001b[1;33m:\u001b[0m\u001b[1;33m\u001b[0m\u001b[0m\n\u001b[0;32m     67\u001b[0m             \u001b[0mindented\u001b[0m\u001b[1;33m[\u001b[0m\u001b[0mname\u001b[0m\u001b[1;33m]\u001b[0m \u001b[1;33m=\u001b[0m \u001b[0mdstr\u001b[0m\u001b[1;33m\u001b[0m\u001b[0m\n",
      "\u001b[1;31mKeyboardInterrupt\u001b[0m: "
     ]
    }
   ],
   "source": [
    "import os \n",
    "\n",
    "import pickle\n",
    "\n",
    "from tqdm import tqdm\n",
    "\n",
    "import numpy as np\n",
    "\n",
    "import pandas as pd\n",
    "\n",
    "from sklearn.preprocessing import MinMaxScaler as mms\n",
    "\n",
    "import matplotlib\n",
    "import matplotlib.pyplot as plt\n",
    "from mpl_toolkits.mplot3d import Axes3D\n",
    "import seaborn as sns\n",
    "\n",
    "from modules.utils.general_utils.utilities import group_wise_binning\n",
    "from modules.utils.general_utils.visualizers import visualize_full_panel, visualize_temporal_panel"
   ]
  },
  {
   "cell_type": "code",
   "execution_count": null,
   "metadata": {},
   "outputs": [],
   "source": [
    "def sns_styleset():\n",
    "    sns.set(context='paper', style='ticks', font='DejaVu Sans')\n",
    "    matplotlib.rcParams['figure.dpi']        = 300\n",
    "    matplotlib.rcParams['axes.linewidth']    = 1\n",
    "    matplotlib.rcParams['xtick.major.width'] = 1\n",
    "    matplotlib.rcParams['ytick.major.width'] = 1\n",
    "    matplotlib.rcParams['xtick.major.size']  = 3\n",
    "    matplotlib.rcParams['ytick.major.size']  = 3\n",
    "    matplotlib.rcParams['xtick.minor.size']  = 2\n",
    "    matplotlib.rcParams['ytick.minor.size']  = 2\n",
    "    matplotlib.rcParams['font.size']         = 13\n",
    "    matplotlib.rcParams['axes.titlesize']    = 13\n",
    "    matplotlib.rcParams['axes.labelsize']    = 13\n",
    "    matplotlib.rcParams['legend.fontsize']   = 13\n",
    "    matplotlib.rcParams['xtick.labelsize']   = 13\n",
    "    matplotlib.rcParams['ytick.labelsize']   = 13\n",
    "    \n",
    "sns_styleset()\n",
    "cmap = matplotlib.cm.get_cmap('Paired')"
   ]
  },
  {
   "cell_type": "markdown",
   "metadata": {},
   "source": [
    "## DEFINE  GLOBALS"
   ]
  },
  {
   "cell_type": "code",
   "execution_count": null,
   "metadata": {},
   "outputs": [],
   "source": [
    "INPUTS_PATH = 'data\\\\train\\\\inputs\\\\{}'\n",
    "TARGETS_PATH = 'data\\\\train\\\\targets\\\\{}'\n",
    "\n",
    "CMAP = matplotlib.cm.get_cmap('Paired')\n",
    "\n",
    "BTCH = [i for i in range(len(os.listdir(INPUTS_PATH.format('continuous_features'))))]\n",
    "BTCH = BTCH[0::20]\n",
    "\n",
    "SNAPSHOTS = 10\n",
    "\n",
    "INPUTS = ['continuous_features', 'context']\n",
    "TARGETS = [\n",
    "    'tar_sessions',\n",
    "    'tar_delta_sessions',    \n",
    "    'tar_active_time',\n",
    "    'tar_session_time',\n",
    "    'tar_activity'\n",
    "]"
   ]
  },
  {
   "cell_type": "markdown",
   "metadata": {},
   "source": [
    "## LOAD"
   ]
  },
  {
   "cell_type": "markdown",
   "metadata": {},
   "source": [
    "### 1 - Load Remappers"
   ]
  },
  {
   "cell_type": "code",
   "execution_count": null,
   "metadata": {},
   "outputs": [],
   "source": [
    "MODELS_RMP = { \n",
    "    'melchior': 'RNN'\n",
    "}\n",
    "TARGETS_RMP = {\n",
    "    'tar_delta_sessions': 'Future Absence',    \n",
    "    'tar_active_time': 'Future Active Time',\n",
    "    'tar_session_time': 'Future Session Time',\n",
    "    'tar_activity': 'Future Session Activity',\n",
    "    'tar_sessions': 'Future N° Sessions'\n",
    "}\n",
    "with open('results\\\\saved_objects\\\\mappers\\\\context.pkl', 'rb') as pickle_file:\n",
    "    CONTEXT_RMP = pickle.load(pickle_file) \n",
    "CONTEXT_RMP = {value: key for key, value in CONTEXT_RMP.items()}"
   ]
  },
  {
   "cell_type": "markdown",
   "metadata": {},
   "source": [
    "### 2 - Load Data Container"
   ]
  },
  {
   "cell_type": "code",
   "execution_count": null,
   "metadata": {},
   "outputs": [],
   "source": [
    "with (open('results\\\\saved_data_containers\\\\melchior.pkl', 'rb')) as container:\n",
    "    data_container = pickle.load(container)"
   ]
  },
  {
   "cell_type": "markdown",
   "metadata": {},
   "source": [
    "# Plotting"
   ]
  },
  {
   "cell_type": "code",
   "execution_count": null,
   "metadata": {},
   "outputs": [],
   "source": [
    "predictions = data_container['prediction_ds']\n",
    "contexts = data_container['context']"
   ]
  },
  {
   "cell_type": "markdown",
   "metadata": {},
   "source": [
    "### 1 - Full Panel Static"
   ]
  },
  {
   "cell_type": "code",
   "execution_count": null,
   "metadata": {
    "scrolled": true
   },
   "outputs": [],
   "source": [
    "for snapshot in range(10):\n",
    "    \n",
    "    UMAP = np.load(f'results\\\\saved_dim_reduction\\\\2D\\\\umap_melchior_eng_emb_{snapshot}.npy')\n",
    "    UMAP = UMAP[~np.isnan(UMAP).any(axis=1)]\n",
    "    colors_dict = {target_name: None for target_name in TARGETS}\n",
    "\n",
    "    for color_name, array in colors_dict.items():\n",
    "\n",
    "        binned_array = group_wise_binning(\n",
    "            array=predictions[color_name][snapshot],\n",
    "            grouper=contexts[snapshot],\n",
    "            n_bins=100,\n",
    "            method='discret'\n",
    "        )\n",
    "        colors_dict[color_name] = binned_array\n",
    "        \n",
    "    visualize_full_panel(\n",
    "        reduction=UMAP, \n",
    "        contexts=contexts[snapshot],\n",
    "        context_remap=CONTEXT_RMP,\n",
    "        colors_dict=colors_dict, \n",
    "        colors_remap=TARGETS_RMP,\n",
    "        colors_name=TARGETS, \n",
    "        cmapper=CMAP,\n",
    "        snapshot=snapshot+1,\n",
    "        save_name=f'umap_snapshot_{snapshot}',\n",
    "        s=0.1\n",
    "    )"
   ]
  },
  {
   "cell_type": "markdown",
   "metadata": {},
   "source": [
    "### 2 - Full Panel Temporal"
   ]
  },
  {
   "cell_type": "code",
   "execution_count": null,
   "metadata": {
    "scrolled": true
   },
   "outputs": [],
   "source": [
    "for target in TARGETS:\n",
    "    \n",
    "    visualize_temporal_panel(\n",
    "        temporal_color=predictions[target], \n",
    "        temporal_contexts=contexts, \n",
    "        color_name=TARGETS_RMP[target],\n",
    "        binning_method='discret',\n",
    "        context_remap=CONTEXT_RMP,\n",
    "        cmapper=CMAP,\n",
    "        s=0.05\n",
    "    )"
   ]
  },
  {
   "cell_type": "markdown",
   "metadata": {},
   "source": [
    "### 3 - PCA REDUCTION"
   ]
  },
  {
   "cell_type": "code",
   "execution_count": null,
   "metadata": {},
   "outputs": [],
   "source": [
    "contexts"
   ]
  },
  {
   "cell_type": "code",
   "execution_count": null,
   "metadata": {
    "scrolled": false
   },
   "outputs": [],
   "source": [
    "for snapshot in range(10):\n",
    "    \n",
    "    PCA = np.load(f'results\\\\saved_dim_reduction\\\\2D\\\\pca_melchior_eng_emb_{snapshot}_cont_aware.npy')\n",
    "    PCA = PCA[~np.isnan(PCA).any(axis=1)]\n",
    "    colors_dict = {target_name: None for target_name in TARGETS}\n",
    "\n",
    "    for color_name, array in colors_dict.items():\n",
    "\n",
    "        binned_array = group_wise_binning(\n",
    "            array=predictions[color_name][snapshot],\n",
    "            grouper=contexts[snapshot],\n",
    "            n_bins=100,\n",
    "            method='discret'\n",
    "        )\n",
    "        colors_dict[color_name] = binned_array\n",
    "    \n",
    "    for unique_context in np.unique(contexts[snapshot]):\n",
    "    \n",
    "        fig = plt.figure(figsize=(15, 6), constrained_layout=True)\n",
    "        spec = fig.add_gridspec(ncols=10, nrows=2)\n",
    "\n",
    "        ax_context = fig.add_subplot(spec[:, :4])\n",
    "        axs_metrics = [\n",
    "            fig.add_subplot(spec[0, 4:6]),\n",
    "            fig.add_subplot(spec[0, 6:8]),\n",
    "            fig.add_subplot(spec[0, 8:]),\n",
    "            fig.add_subplot(spec[1, 5:7]),\n",
    "            fig.add_subplot(spec[1, 7:9])\n",
    "        ]\n",
    "\n",
    "        label = CONTEXT_RMP[int(unique_context)]\n",
    "        context_index = np.argwhere(contexts[snapshot] == unique_context).flatten()\n",
    "        c = CMAP(int(unique_context))\n",
    "        ax_context.scatter(\n",
    "            PCA[:, 0][context_index],\n",
    "            PCA[:, 1][context_index],\n",
    "            marker='o',\n",
    "            edgecolor='',\n",
    "            color=c,\n",
    "            label=f'Object {label}',\n",
    "            s=0.1\n",
    "        )\n",
    "        ax_context.set_ylabel('')\n",
    "        ax_context.set_xlabel('')\n",
    "        ax_context.set_title(f'Game Context {label} - $t$ {snapshot}')\n",
    "\n",
    "        index = 0\n",
    "        for color_name, ax_metric in zip(TARGETS, axs_metrics):\n",
    "\n",
    "            img = ax_metric.scatter(\n",
    "                PCA[:, 0][context_index],\n",
    "                PCA[:, 1][context_index],\n",
    "                c=colors_dict[color_name][context_index],\n",
    "                marker='o',\n",
    "                edgecolor='',\n",
    "                cmap='coolwarm',\n",
    "                vmin=0,\n",
    "                vmax=100,\n",
    "                s=0.1\n",
    "            )\n",
    "            ax_metric.set_title(\n",
    "                f'{TARGETS_RMP[color_name]} - $t$ {snapshot}'\n",
    "            )\n",
    "            if index > 2:\n",
    "                ax_metric.set_yticks([])\n",
    "                ax_metric.set_xlabel('')\n",
    "            else:\n",
    "                ax_metric.set_yticks([])\n",
    "                ax_metric.set_xticks([])\n",
    "            index += 1\n",
    "\n",
    "        fig.text(0.5, -0.01, 'Dimension 1', ha='center')\n",
    "        fig.text(-0.01, 0.5, 'Dimension 2', va='center', rotation='vertical')\n",
    "        handles, labels = ax_context.get_legend_handles_labels()\n",
    "        leg = ax_context.legend(\n",
    "            handles,\n",
    "            labels,\n",
    "            markerscale=8,\n",
    "            ncol=1\n",
    "        )\n",
    "        leg.get_frame().set_edgecolor('k')\n",
    "\n",
    "        plt.tight_layout()\n",
    "\n",
    "        cbaxes = fig.add_axes([1.0, 0.1, 0.02, 0.8])\n",
    "        cbar = fig.colorbar(\n",
    "            img,\n",
    "            cax=cbaxes,\n",
    "            cmap='coolwarm',\n",
    "            boundaries=np.linspace(0, 100, 100),\n",
    "            ticks=[0, 25, 50, 75, 100]\n",
    "        )\n",
    "        cbar.set_label('Discretized Metric Value')\n",
    "\n",
    "        #     plt.savefig(\n",
    "        #         f'{save_path}\\\\{save_name}.png',\n",
    "        #         dpi=500,\n",
    "        #         bbox_inches='tight'\n",
    "        #     )\n",
    "\n",
    "        plt.show()"
   ]
  },
  {
   "cell_type": "markdown",
   "metadata": {},
   "source": [
    "## ANIMATED 3D TEMPORAL REPPRESENTATION"
   ]
  },
  {
   "cell_type": "code",
   "execution_count": null,
   "metadata": {
    "scrolled": false
   },
   "outputs": [],
   "source": [
    "gif_index = 0\n",
    "for snapshot in range(5):\n",
    "    \n",
    "    UMAP = np.load(f'results\\\\saved_dim_reduction\\\\3D\\\\umap_melchior_eng_emb_{snapshot}.npy')\n",
    "    UMAP = UMAP[~np.isnan(UMAP).any(axis=1)]\n",
    "    colors_dict = {target_name: None for target_name in TARGETS}\n",
    "    \n",
    "    fig = plt.figure(figsize=(20, 8))\n",
    "    spec = fig.add_gridspec(ncols=5, nrows=2)\n",
    "    \n",
    "    ax_context = fig.add_subplot(spec[:, :2], projection='3d')\n",
    "    ax_context.scatter(\n",
    "        UMAP[:, 0], \n",
    "        UMAP[:, 1], \n",
    "        UMAP[:, 2],\n",
    "        s=0.05,\n",
    "        c=contexts[snapshot],\n",
    "        marker='o',\n",
    "        cmap='Paired'\n",
    "    )\n",
    "    ax_context.set_title(f'Game Context - $t$ {snapshot+1}')\n",
    "    ax_context.axis('off')\n",
    "    ax_context.set_xticks([])\n",
    "    ax_context.set_yticks([])\n",
    "    ax_context.set_zticks([])\n",
    "    \n",
    "    index = 0\n",
    "    for column in range(2, 5):\n",
    "\n",
    "        for row in range(2):\n",
    "\n",
    "            target_name = TARGETS[index]\n",
    "            ax_metric = fig.add_subplot(spec[row, column], projection='3d')\n",
    "        \n",
    "            binned_array = group_wise_binning(\n",
    "                array=predictions[target_name][snapshot],\n",
    "                grouper=contexts[snapshot],\n",
    "                n_bins=100,\n",
    "                method='discret'\n",
    "            )\n",
    "\n",
    "            ax_metric.scatter(\n",
    "                UMAP[:, 0], \n",
    "                UMAP[:, 1], \n",
    "                UMAP[:, 2],\n",
    "                s=0.05,\n",
    "                c=binned_array,\n",
    "                marker='o',\n",
    "                cmap='coolwarm'\n",
    "            )\n",
    "\n",
    "            ax_metric.axis('off')\n",
    "            ax_metric.set_xticks([])\n",
    "            ax_metric.set_yticks([])\n",
    "            ax_metric.set_zticks([])\n",
    "            ax_metric.set_title(f'{TARGETS_RMP[target_name]} - $t$ {snapshot+1}')\n",
    "\n",
    "            index+=1\n",
    "     \n",
    "    for angle in range(0, 360, 10):\n",
    "\n",
    "        for ax in fig.axes:\n",
    "\n",
    "            ax.view_init(0, angle)\n",
    "\n",
    "        plt.savefig(f'results\\\\figures\\\\embeddings\\\\gifs\\\\{gif_index}.png')\n",
    "        gif_index += 1\n",
    "        print(gif_index)"
   ]
  }
 ],
 "metadata": {
  "kernelspec": {
   "display_name": "Python 3",
   "language": "python",
   "name": "python3"
  },
  "language_info": {
   "codemirror_mode": {
    "name": "ipython",
    "version": 3
   },
   "file_extension": ".py",
   "mimetype": "text/x-python",
   "name": "python",
   "nbconvert_exporter": "python",
   "pygments_lexer": "ipython3",
   "version": "3.6.2"
  }
 },
 "nbformat": 4,
 "nbformat_minor": 2
}
